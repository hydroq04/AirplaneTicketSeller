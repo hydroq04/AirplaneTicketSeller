{
 "cells": [
  {
   "cell_type": "code",
   "execution_count": 1,
   "id": "383d7ec2",
   "metadata": {},
   "outputs": [],
   "source": [
    "import pandas as pd\n",
    "\n",
    "df = pd.read_csv(\"sample_flights.csv\")"
   ]
  },
  {
   "cell_type": "code",
   "execution_count": 2,
   "id": "f973d80f",
   "metadata": {},
   "outputs": [
    {
     "data": {
      "text/html": [
       "<div>\n",
       "<style scoped>\n",
       "    .dataframe tbody tr th:only-of-type {\n",
       "        vertical-align: middle;\n",
       "    }\n",
       "\n",
       "    .dataframe tbody tr th {\n",
       "        vertical-align: top;\n",
       "    }\n",
       "\n",
       "    .dataframe thead th {\n",
       "        text-align: right;\n",
       "    }\n",
       "</style>\n",
       "<table border=\"1\" class=\"dataframe\">\n",
       "  <thead>\n",
       "    <tr style=\"text-align: right;\">\n",
       "      <th></th>\n",
       "      <th>airline</th>\n",
       "      <th>timeFrom</th>\n",
       "      <th>timeTo</th>\n",
       "      <th>codeFrom</th>\n",
       "      <th>codeTo</th>\n",
       "      <th>duration</th>\n",
       "      <th>type</th>\n",
       "      <th>price</th>\n",
       "      <th>passengerCount</th>\n",
       "      <th>capacity</th>\n",
       "    </tr>\n",
       "  </thead>\n",
       "  <tbody>\n",
       "    <tr>\n",
       "      <th>0</th>\n",
       "      <td>VietJet Air</td>\n",
       "      <td>2025-07-01T08:00</td>\n",
       "      <td>2025-07-01T09:30</td>\n",
       "      <td>SGN</td>\n",
       "      <td>HAN</td>\n",
       "      <td>1h30m</td>\n",
       "      <td>Trực tiếp</td>\n",
       "      <td>1500000</td>\n",
       "      <td>10</td>\n",
       "      <td>180</td>\n",
       "    </tr>\n",
       "    <tr>\n",
       "      <th>1</th>\n",
       "      <td>Vietnam Airlines</td>\n",
       "      <td>2025-07-02T10:00</td>\n",
       "      <td>2025-07-02T12:00</td>\n",
       "      <td>HAN</td>\n",
       "      <td>DAD</td>\n",
       "      <td>2h0m</td>\n",
       "      <td>Trực tiếp</td>\n",
       "      <td>2000000</td>\n",
       "      <td>5</td>\n",
       "      <td>180</td>\n",
       "    </tr>\n",
       "    <tr>\n",
       "      <th>2</th>\n",
       "      <td>Bamboo Airways</td>\n",
       "      <td>2025-07-03T14:00</td>\n",
       "      <td>2025-07-03T15:45</td>\n",
       "      <td>DAD</td>\n",
       "      <td>SGN</td>\n",
       "      <td>1h45m</td>\n",
       "      <td>1 chặng dừng</td>\n",
       "      <td>1700000</td>\n",
       "      <td>8</td>\n",
       "      <td>180</td>\n",
       "    </tr>\n",
       "  </tbody>\n",
       "</table>\n",
       "</div>"
      ],
      "text/plain": [
       "            airline          timeFrom            timeTo codeFrom codeTo  \\\n",
       "0       VietJet Air  2025-07-01T08:00  2025-07-01T09:30      SGN    HAN   \n",
       "1  Vietnam Airlines  2025-07-02T10:00  2025-07-02T12:00      HAN    DAD   \n",
       "2    Bamboo Airways  2025-07-03T14:00  2025-07-03T15:45      DAD    SGN   \n",
       "\n",
       "  duration          type    price  passengerCount  capacity  \n",
       "0    1h30m     Trực tiếp  1500000              10       180  \n",
       "1     2h0m     Trực tiếp  2000000               5       180  \n",
       "2    1h45m  1 chặng dừng  1700000               8       180  "
      ]
     },
     "execution_count": 2,
     "metadata": {},
     "output_type": "execute_result"
    }
   ],
   "source": [
    "df"
   ]
  },
  {
   "cell_type": "code",
   "execution_count": 3,
   "id": "02fcaec1",
   "metadata": {},
   "outputs": [],
   "source": [
    "df.to_excel(\"sample_flights.xlsx\", index=False)"
   ]
  },
  {
   "cell_type": "code",
   "execution_count": null,
   "id": "7372e62d",
   "metadata": {},
   "outputs": [],
   "source": []
  }
 ],
 "metadata": {
  "kernelspec": {
   "display_name": "ocr_corrector",
   "language": "python",
   "name": "python3"
  },
  "language_info": {
   "codemirror_mode": {
    "name": "ipython",
    "version": 3
   },
   "file_extension": ".py",
   "mimetype": "text/x-python",
   "name": "python",
   "nbconvert_exporter": "python",
   "pygments_lexer": "ipython3",
   "version": "3.8.12"
  }
 },
 "nbformat": 4,
 "nbformat_minor": 5
}
